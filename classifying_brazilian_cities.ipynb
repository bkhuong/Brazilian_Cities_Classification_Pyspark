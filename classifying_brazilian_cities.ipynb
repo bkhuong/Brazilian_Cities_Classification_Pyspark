{
 "cells": [
  {
   "cell_type": "code",
   "execution_count": 3,
   "metadata": {
    "ExecuteTime": {
     "end_time": "2019-01-18T20:11:29.994783Z",
     "start_time": "2019-01-18T20:11:29.970112Z"
    }
   },
   "outputs": [],
   "source": [
    "import os\n",
    "\n",
    "from pyspark import SparkContext\n",
    "from pyspark.sql import SparkSession\n",
    "from pyspark.sql.types import *\n",
    "from pyspark.sql.functions import *"
   ]
  },
  {
   "cell_type": "code",
   "execution_count": 1,
   "metadata": {
    "ExecuteTime": {
     "end_time": "2019-01-18T20:10:53.421806Z",
     "start_time": "2019-01-18T20:10:53.412698Z"
    }
   },
   "outputs": [],
   "source": [
    "sc = SparkContext.getOrCreate()\n",
    "ss = SparkSession.builder.getOrCreate()"
   ]
  },
  {
   "cell_type": "markdown",
   "metadata": {},
   "source": [
    "## Import data from mongodb"
   ]
  },
  {
   "cell_type": "code",
   "execution_count": 2,
   "metadata": {
    "ExecuteTime": {
     "end_time": "2019-01-18T20:11:14.897582Z",
     "start_time": "2019-01-18T20:11:02.318216Z"
    }
   },
   "outputs": [],
   "source": [
    "pyspark_submit_args = '--packages org.mongodb.spark:mongo-spark-connector_2.11:2.4.0 pyspark-shell'\n",
    "os.environ[\"PYSPARK_SUBMIT_ARGS\"] = pyspark_submit_args\n",
    "\n",
    "\n",
    "spark = SparkSession \\\n",
    "    .builder \\\n",
    "    .appName(\"myApp\") \\\n",
    "    .config(\"spark.mongodb.input.uri\", \"mongodb://52.27.215.97/mydb.brazil\")\\\n",
    "    .getOrCreate()\n",
    "\n",
    "df = spark.read.format(\"com.mongodb.spark.sql.DefaultSource\").load()"
   ]
  },
  {
   "cell_type": "code",
   "execution_count": 4,
   "metadata": {
    "ExecuteTime": {
     "end_time": "2019-01-18T20:11:32.299456Z",
     "start_time": "2019-01-18T20:11:32.291744Z"
    }
   },
   "outputs": [],
   "source": [
    "def IntegerSafe(x):\n",
    "    try:\n",
    "        return int(x)\n",
    "    except:\n",
    "        return None \n",
    "    \n",
    "def FloatSafe(x):\n",
    "    try:\n",
    "        return float(x)\n",
    "    except:\n",
    "        return None "
   ]
  },
  {
   "cell_type": "code",
   "execution_count": 5,
   "metadata": {
    "ExecuteTime": {
     "end_time": "2019-01-18T20:11:37.624046Z",
     "start_time": "2019-01-18T20:11:33.496244Z"
    }
   },
   "outputs": [
    {
     "data": {
      "text/plain": [
       "[Row(_id=Row(oid=u'5c415d222080b515fa780857'), city=u'S\\xe3o Gon\\xe7alo', da=6, date=u'2007-11-06', dewp=12.1, dmax=16.8, dmin=10.8, elvt=237.0, gust=6.5, hmax=58.0, hmdy=35.0, hmin=32.0, hr=0, inme=u'A333', lat=-6.835777, lon=-38.311583, mdct=u'2007-11-06 00:00:00', mo=11, prov=u'RJ', smax=982.5, smin=981.3, stp=982.5, temp=29.3, tmax=29.7, tmin=25.5, wdct=101.0, wsid=178, wsnm=u'S\\xc3O GON\\xc7ALO', yr=2007)]"
      ]
     },
     "execution_count": 5,
     "metadata": {},
     "output_type": "execute_result"
    }
   ],
   "source": [
    "weather_rdd = df.rdd\n",
    "weather_rdd.take(1)"
   ]
  },
  {
   "cell_type": "markdown",
   "metadata": {},
   "source": [
    "## Cast data to correct datatypes and create dataframe"
   ]
  },
  {
   "cell_type": "code",
   "execution_count": 6,
   "metadata": {
    "ExecuteTime": {
     "end_time": "2019-01-18T20:11:39.827311Z",
     "start_time": "2019-01-18T20:11:39.814469Z"
    }
   },
   "outputs": [],
   "source": [
    "weather_rdd_casted = weather_rdd.map(lambda x: [x[1],\\\n",
    "                          IntegerSafe(x[2]),\\\n",
    "                          x[3],\\\n",
    "                          FloatSafe(x[4]),\\\n",
    "                          FloatSafe(x[5]),\\\n",
    "                          FloatSafe(x[6]),\\\n",
    "                          FloatSafe(x[7]),\\\n",
    "                          FloatSafe(x[8]),\\\n",
    "                          FloatSafe(x[9]),\\\n",
    "                          FloatSafe(x[10]),\\\n",
    "                          FloatSafe(x[11]),\\\n",
    "                          IntegerSafe(x[12]),\\\n",
    "                          x[13],\\\n",
    "                          FloatSafe(x[14]),\\\n",
    "                          FloatSafe(x[15]),\\\n",
    "                          x[16],\\\n",
    "                          IntegerSafe(x[17]),\\\n",
    "                          x[18],\\\n",
    "                          FloatSafe(x[19]),\\\n",
    "                          FloatSafe(x[20]),\\\n",
    "                          FloatSafe(x[21]),\\\n",
    "                          FloatSafe(x[22]),\\\n",
    "                          FloatSafe(x[23]),\\\n",
    "                          FloatSafe(x[24]),\\\n",
    "                          FloatSafe(x[25]),\\\n",
    "                          IntegerSafe(x[26]),\\\n",
    "                          x[27],\\\n",
    "                          IntegerSafe(x[28])]\n",
    "                          )"
   ]
  },
  {
   "cell_type": "code",
   "execution_count": 7,
   "metadata": {
    "ExecuteTime": {
     "end_time": "2019-01-18T20:11:40.878904Z",
     "start_time": "2019-01-18T20:11:40.842678Z"
    }
   },
   "outputs": [],
   "source": [
    "schema = StructType([StructField(\"city\", StringType(), False),\n",
    "                    StructField(\"da\", IntegerType(), False),\n",
    "                    StructField(\"date\", StringType(), False),\n",
    "                    StructField(\"dewp\", DoubleType(), True),\n",
    "                    StructField(\"dmax\", DoubleType(), True),\n",
    "                    StructField(\"dmin\", DoubleType(), True),\n",
    "                    StructField(\"elvt\", DoubleType(), True),\n",
    "                    StructField(\"gust\", DoubleType(), True),\n",
    "                    StructField(\"hmax\", DoubleType(), True),\n",
    "                    StructField(\"hmdy\", DoubleType(), True),\n",
    "                    StructField(\"hmin\", DoubleType(), True),\n",
    "                    StructField(\"hr\", IntegerType(), False),\n",
    "                    StructField(\"inme\", StringType(), False),\n",
    "                    StructField(\"lat\", DoubleType(), True),\n",
    "                    StructField(\"lon\", DoubleType(), True),\n",
    "                    StructField(\"mdct\", StringType(), False),\n",
    "                    StructField(\"mo\", IntegerType(), False),\n",
    "                    StructField(\"prov\", StringType(), False),\n",
    "                    StructField(\"smax\", DoubleType(), True),\n",
    "                    StructField(\"smin\", DoubleType(), True),\n",
    "                    StructField(\"stp\", DoubleType(), True),\n",
    "                    StructField(\"temp\", DoubleType(), True),\n",
    "                    StructField(\"tmax\", DoubleType(), True),\n",
    "                    StructField(\"tmin\", DoubleType(), True),\n",
    "                    StructField(\"wdct\", DoubleType(), True),\n",
    "                    StructField(\"wsid\", IntegerType(), False),\n",
    "                    StructField(\"wsnm\", StringType(), False),\n",
    "                    StructField(\"yr\", IntegerType(), False)\n",
    "                   ])"
   ]
  },
  {
   "cell_type": "code",
   "execution_count": 8,
   "metadata": {
    "ExecuteTime": {
     "end_time": "2019-01-18T20:11:44.380361Z",
     "start_time": "2019-01-18T20:11:41.751562Z"
    },
    "scrolled": true
   },
   "outputs": [
    {
     "name": "stdout",
     "output_type": "stream",
     "text": [
      "+-----------+---+----------+----+----+----+-----+----+----+----+----+---+----+---------+----------+-------------------+---+----+-----+-----+-----+----+----+----+-----+----+-----------+----+\n",
      "|       city| da|      date|dewp|dmax|dmin| elvt|gust|hmax|hmdy|hmin| hr|inme|      lat|       lon|               mdct| mo|prov| smax| smin|  stp|temp|tmax|tmin| wdct|wsid|       wsnm|  yr|\n",
      "+-----------+---+----------+----+----+----+-----+----+----+----+----+---+----+---------+----------+-------------------+---+----+-----+-----+-----+----+----+----+-----+----+-----------+----+\n",
      "|São Gonçalo|  6|2007-11-06|12.1|16.8|10.8|237.0| 6.5|58.0|35.0|32.0|  0|A333|-6.835777|-38.311583|2007-11-06 00:00:00| 11|  RJ|982.5|981.3|982.5|29.3|29.7|25.5|101.0| 178|SÃO GONÇALO|2007|\n",
      "|São Gonçalo|  6|2007-11-06|13.5|13.6|12.2|237.0| 6.4|39.0|39.0|35.0|  1|A333|-6.835777|-38.311583|2007-11-06 01:00:00| 11|  RJ|983.2|982.5|983.2|29.0|29.9|29.0| 94.0| 178|SÃO GONÇALO|2007|\n",
      "|São Gonçalo|  6|2007-11-06|14.0|14.0|13.6|237.0| 6.9|44.0|44.0|39.0|  2|A333|-6.835777|-38.311583|2007-11-06 02:00:00| 11|  RJ|983.5|983.2|983.5|27.4|29.0|27.4| 93.0| 178|SÃO GONÇALO|2007|\n",
      "|São Gonçalo|  6|2007-11-06|16.9|16.9|14.1|237.0| 5.8|58.0|58.0|44.0|  3|A333|-6.835777|-38.311583|2007-11-06 03:00:00| 11|  RJ|983.7|983.4|983.7|25.8|27.4|25.8| 96.0| 178|SÃO GONÇALO|2007|\n",
      "|São Gonçalo|  6|2007-11-06|16.4|17.0|16.4|237.0| 7.5|58.0|57.0|56.0|  4|A333|-6.835777|-38.311583|2007-11-06 04:00:00| 11|  RJ|983.8|983.6|983.7|25.4|26.3|25.3|110.0| 178|SÃO GONÇALO|2007|\n",
      "+-----------+---+----------+----+----+----+-----+----+----+----+----+---+----+---------+----------+-------------------+---+----+-----+-----+-----+----+----+----+-----+----+-----------+----+\n",
      "only showing top 5 rows\n",
      "\n"
     ]
    }
   ],
   "source": [
    "weather_df = ss.createDataFrame(weather_rdd_casted, schema)\n",
    "weather_df.show(5)"
   ]
  },
  {
   "cell_type": "markdown",
   "metadata": {},
   "source": [
    "## Data preprocessing"
   ]
  },
  {
   "cell_type": "code",
   "execution_count": 9,
   "metadata": {
    "ExecuteTime": {
     "end_time": "2019-01-18T20:11:44.420278Z",
     "start_time": "2019-01-18T20:11:44.385061Z"
    }
   },
   "outputs": [
    {
     "name": "stdout",
     "output_type": "stream",
     "text": [
      "root\n",
      " |-- city: string (nullable = false)\n",
      " |-- dewp: double (nullable = true)\n",
      " |-- dmax: double (nullable = true)\n",
      " |-- dmin: double (nullable = true)\n",
      " |-- gust: double (nullable = true)\n",
      " |-- hmax: double (nullable = true)\n",
      " |-- hmdy: double (nullable = true)\n",
      " |-- hmin: double (nullable = true)\n",
      " |-- hr: integer (nullable = false)\n",
      " |-- mo: integer (nullable = false)\n",
      " |-- smax: double (nullable = true)\n",
      " |-- smin: double (nullable = true)\n",
      " |-- stp: double (nullable = true)\n",
      " |-- temp: double (nullable = true)\n",
      " |-- tmax: double (nullable = true)\n",
      " |-- tmin: double (nullable = true)\n",
      " |-- wdct: double (nullable = true)\n",
      "\n"
     ]
    }
   ],
   "source": [
    "# Drop unncessesary cols\n",
    "weather_df = weather_df.drop('wsid', 'wsnm', 'elvt', 'lat' ,' lon', 'inme', 'prov', 'prcp', 'gbrd', 'mdct', 'date', 'yr', 'da', 'lon')\n",
    "weather_df.printSchema()"
   ]
  },
  {
   "cell_type": "code",
   "execution_count": 10,
   "metadata": {
    "ExecuteTime": {
     "end_time": "2019-01-18T20:17:32.374487Z",
     "start_time": "2019-01-18T20:11:44.424169Z"
    }
   },
   "outputs": [],
   "source": [
    "# OneHotEncode hours and month\n",
    "\n",
    "from pyspark.ml.feature import OneHotEncoder\n",
    "def oneHotEncodeColumns(df, cols):\n",
    "    newdf = df\n",
    "    for c in cols:\n",
    "        #For each given colum, create OneHotEncoder. \n",
    "        #dropLast : Whether to drop the last category in the encoded vector (default: true)\n",
    "        onehotenc = OneHotEncoder(inputCol=c, outputCol=c+\"-onehot\", dropLast=False)\n",
    "        #Creates a DataFame by putting the transformed values in the new colum with suffix \"-onehot\" \n",
    "        #and then drops the original columns.\n",
    "        #and drop the \"-onehot\" suffix. \n",
    "        newdf = onehotenc.transform(newdf).drop(c)\n",
    "        newdf = newdf.withColumnRenamed(c+\"-onehot\", c)\n",
    "    return newdf\n",
    "\n",
    "weather_df_hot = oneHotEncodeColumns(weather_df, [\"hr\", \"mo\"])"
   ]
  },
  {
   "cell_type": "code",
   "execution_count": 11,
   "metadata": {
    "ExecuteTime": {
     "end_time": "2019-01-18T20:18:16.149638Z",
     "start_time": "2019-01-18T20:18:16.044650Z"
    }
   },
   "outputs": [],
   "source": [
    "# Merging the data with Vector Assembler.\n",
    "from pyspark.ml.feature import VectorAssembler\n",
    "input_cols = weather_df_hot.columns[1:]\n",
    "\n",
    "va = VectorAssembler(outputCol=\"features\", inputCols=input_cols)\n",
    "#lpoints = labeled data.\n",
    "lpoints = va.transform(weather_df_hot)"
   ]
  },
  {
   "cell_type": "code",
   "execution_count": 12,
   "metadata": {
    "ExecuteTime": {
     "end_time": "2019-01-18T20:20:58.154670Z",
     "start_time": "2019-01-18T20:18:16.882750Z"
    }
   },
   "outputs": [],
   "source": [
    "# Turn labels into numerical values\n",
    "#converting strings to numeric values\n",
    "from pyspark.ml.feature import StringIndexer\n",
    "\n",
    "#For each given colum, fits StringIndexerModel.\n",
    "si = StringIndexer(inputCol=\"city\", outputCol=\"label\")\n",
    "sm = si.fit(lpoints)\n",
    "#Creates a DataFame by putting the transformed values in the new colum with suffix \"-num\" \n",
    "#and then drops the original columns.\n",
    "#and drop the \"-num\" suffix. \n",
    "lpoints = sm.transform(lpoints)\n"
   ]
  },
  {
   "cell_type": "markdown",
   "metadata": {
    "ExecuteTime": {
     "end_time": "2019-01-18T20:22:13.550710Z",
     "start_time": "2019-01-18T20:22:13.536216Z"
    }
   },
   "source": [
    "## Splitting data into train/test samples and cache"
   ]
  },
  {
   "cell_type": "code",
   "execution_count": 15,
   "metadata": {
    "ExecuteTime": {
     "end_time": "2019-01-18T20:22:23.122303Z",
     "start_time": "2019-01-18T20:22:22.835064Z"
    }
   },
   "outputs": [],
   "source": [
    "# Train test split\n",
    "#Divide the dataset into training and testing sets.\n",
    "lpoints = lpoints.coalesce(72)\n",
    "splits = lpoints.randomSplit([0.9, 0.1])\n",
    "\n",
    "#cache() : the algorithm is interative and training and data sets are going to be reused many times.\n",
    "train = splits[0].cache()\n",
    "test = splits[1].cache()"
   ]
  },
  {
   "cell_type": "code",
   "execution_count": 16,
   "metadata": {
    "ExecuteTime": {
     "end_time": "2019-01-18T20:28:19.790105Z",
     "start_time": "2019-01-18T20:22:26.110865Z"
    }
   },
   "outputs": [
    {
     "name": "stdout",
     "output_type": "stream",
     "text": [
      "Training sample size: 8558132\n",
      "Test sample size: 949752\n"
     ]
    }
   ],
   "source": [
    "print \"Training sample size: %s\" % str(train.count())\n",
    "print \"Test sample size: %s\" % str(test.count())"
   ]
  },
  {
   "cell_type": "markdown",
   "metadata": {},
   "source": [
    "## Machine Learning (logistic regression and random forest classifier)"
   ]
  },
  {
   "cell_type": "code",
   "execution_count": 67,
   "metadata": {
    "ExecuteTime": {
     "end_time": "2019-01-18T21:49:15.427087Z",
     "start_time": "2019-01-18T21:35:13.588175Z"
    }
   },
   "outputs": [],
   "source": [
    "# Logistic Regression (training)\n",
    "from pyspark.ml.classification import LogisticRegression\n",
    "lr = LogisticRegression(regParam=0.01, maxIter=100, fitIntercept=True)\n",
    "\n",
    "lrmodel = lr.fit(train)"
   ]
  },
  {
   "cell_type": "code",
   "execution_count": 68,
   "metadata": {
    "ExecuteTime": {
     "end_time": "2019-01-18T21:49:15.649839Z",
     "start_time": "2019-01-18T21:49:15.436276Z"
    }
   },
   "outputs": [],
   "source": [
    "# Logistic Regression (predicting)\n",
    "pred_lr = lrmodel.transform(test)"
   ]
  },
  {
   "cell_type": "code",
   "execution_count": 24,
   "metadata": {
    "ExecuteTime": {
     "end_time": "2019-01-18T20:52:11.256871Z",
     "start_time": "2019-01-18T20:50:47.835287Z"
    }
   },
   "outputs": [],
   "source": [
    "# Random Forest Classifier (training)\n",
    "from pyspark.ml.classification import RandomForestClassifier\n",
    "rf = RandomForestClassifier(maxDepth=10, numTrees=10)\n",
    "rfmodel = rf.fit(train)"
   ]
  },
  {
   "cell_type": "code",
   "execution_count": 22,
   "metadata": {
    "ExecuteTime": {
     "end_time": "2019-01-18T20:48:42.884351Z",
     "start_time": "2019-01-18T20:48:42.776653Z"
    }
   },
   "outputs": [],
   "source": [
    "# Random Forest Classifier (test)\n",
    "pred_rf = rfmodel.transform(test)"
   ]
  },
  {
   "cell_type": "markdown",
   "metadata": {},
   "source": [
    "### Model evaluations (accuracy, F1 and confusion matrix)"
   ]
  },
  {
   "cell_type": "code",
   "execution_count": 27,
   "metadata": {
    "ExecuteTime": {
     "end_time": "2019-01-18T20:55:11.693196Z",
     "start_time": "2019-01-18T20:54:40.819064Z"
    },
    "scrolled": true
   },
   "outputs": [
    {
     "name": "stdout",
     "output_type": "stream",
     "text": [
      "LR accuracy : 0.050666910941\n",
      "LR f1 : 0.0230249123295\n",
      "RFC accuracy : 0.264146850967\n",
      "RFC f1 : 0.233322111541\n"
     ]
    }
   ],
   "source": [
    "# Evaluate LR model\n",
    "from pyspark.ml.evaluation import MulticlassClassificationEvaluator\n",
    "\n",
    "evaluator_acc = MulticlassClassificationEvaluator(labelCol=\"label\", predictionCol=\"prediction\", metricName=\"accuracy\")\n",
    "evaluator_f1 = MulticlassClassificationEvaluator(labelCol=\"label\", predictionCol=\"prediction\", metricName=\"f1\")\n",
    "\n",
    "lr_acc = evaluator_acc.evaluate(pred);\n",
    "lr_f1 = evaluator_f1.evaluate(pred)\n",
    "print \"LR {0} : {1}\".format(evaluator_acc.getMetricName(), lr_acc)\n",
    "print \"LR {0} : {1}\".format(evaluator_f1.getMetricName(), lr_f1)\n",
    "\n",
    "rf_acc = evaluator_acc.evaluate(pred_rf);\n",
    "rf_f1 = evaluator_f1.evaluate(pred_rf)\n",
    "print \"RFC {0} : {1}\".format(evaluator_acc.getMetricName(), rf_acc)\n",
    "print \"RFC {0} : {1}\".format(evaluator_f1.getMetricName(), rf_f1)"
   ]
  },
  {
   "cell_type": "code",
   "execution_count": 72,
   "metadata": {
    "ExecuteTime": {
     "end_time": "2019-01-18T21:51:10.114006Z",
     "start_time": "2019-01-18T21:51:08.219406Z"
    }
   },
   "outputs": [
    {
     "data": {
      "text/plain": [
       "<matplotlib.axes._subplots.AxesSubplot at 0x7f437b20ffd0>"
      ]
     },
     "execution_count": 72,
     "metadata": {},
     "output_type": "execute_result"
    },
    {
     "data": {
      "image/png": "[encoded data removed]",
      "text/plain": [
       "<Figure size 504x504 with 2 Axes>"
      ]
     },
     "metadata": {},
     "output_type": "display_data"
    }
   ],
   "source": [
    "import pandas as pd\n",
    "conf_matrix_lr = pred_lr.select('label','prediction')\\\n",
    "                        .groupBy('label','prediction')\\\n",
    "                        .count()\\\n",
    "                        .orderBy([\"label\", \"prediction\"])\\\n",
    "                        .toPandas()\n",
    "conf_matrix_unstack_lr = pd.crosstab(index=conf_matrix_lr['label'], columns=conf_matrix_lr['prediction'],\n",
    "                                     values=conf_matrix_lr['count'], aggfunc='mean')\n",
    "\n",
    "from matplotlib import pyplot as plt\n",
    "import seaborn as sns\n",
    "\n",
    "sns.set(rc={'figure.figsize':(7,7)})\n",
    "sns.heatmap(conf_matrix_unstack_lr, cmap=\"viridis\")"
   ]
  },
  {
   "cell_type": "code",
   "execution_count": 70,
   "metadata": {
    "ExecuteTime": {
     "end_time": "2019-01-18T21:49:28.451183Z",
     "start_time": "2019-01-18T21:49:18.028019Z"
    }
   },
   "outputs": [
    {
     "data": {
      "text/plain": [
       "<matplotlib.axes._subplots.AxesSubplot at 0x7f437b569a90>"
      ]
     },
     "execution_count": 70,
     "metadata": {},
     "output_type": "execute_result"
    },
    {
     "data": {
      "image/png": "[encoded data removed]",
      "text/plain": [
       "<Figure size 504x504 with 2 Axes>"
      ]
     },
     "metadata": {},
     "output_type": "display_data"
    }
   ],
   "source": [
    "# Random Forest Classifier confusion matrix\n",
    "conf_matrix_rf = pred_rf.select('label','prediction')\\\n",
    "                        .groupBy('label','prediction')\\\n",
    "                        .count()\\\n",
    "                        .orderBy([\"label\", \"prediction\"])\\\n",
    "                        .toPandas()\n",
    "conf_matrix_unstack_rf = pd.crosstab(index=conf_matrix_rf['label'], columns=conf_matrix_rf['prediction'],\n",
    "                                     values=conf_matrix_rf['count'], aggfunc='mean')\n",
    "\n",
    "\n",
    "sns.set(rc={'figure.figsize':(7,7)})\n",
    "sns.heatmap(conf_matrix_unstack_rf, cmap=\"viridis\", square=True)"
   ]
  }
 ],
 "metadata": {
  "kernelspec": {
   "display_name": "Python 2",
   "language": "python",
   "name": "python2"
  },
  "language_info": {
   "codemirror_mode": {
    "name": "ipython",
    "version": 2
   },
   "file_extension": ".py",
   "mimetype": "text/x-python",
   "name": "python",
   "nbconvert_exporter": "python",
   "pygments_lexer": "ipython2",
   "version": "2.7.15"
  },
  "toc": {
   "base_numbering": 1,
   "nav_menu": {},
   "number_sections": true,
   "sideBar": true,
   "skip_h1_title": false,
   "title_cell": "Table of Contents",
   "title_sidebar": "Contents",
   "toc_cell": false,
   "toc_position": {},
   "toc_section_display": true,
   "toc_window_display": false
  }
 },
 "nbformat": 4,
 "nbformat_minor": 2
}
